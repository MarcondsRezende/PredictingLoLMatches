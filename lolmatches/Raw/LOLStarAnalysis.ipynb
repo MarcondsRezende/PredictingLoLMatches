{
 "cells": [
  {
   "cell_type": "code",
   "execution_count": 2,
   "metadata": {},
   "outputs": [],
   "source": [
    "# API Key para ter acesso aos dados do lol\n",
    "api_key = \"RGAPI-0d133373-5e35-44d0-9e38-78a411868057\""
   ]
  },
  {
   "cell_type": "code",
   "execution_count": 4,
   "metadata": {},
   "outputs": [],
   "source": [
    "# API do invocador desejado\n",
    "api_url = \"https://br1.api.riotgames.com/lol/summoner/v4/summoners/by-name/SONNED\""
   ]
  },
  {
   "cell_type": "code",
   "execution_count": 7,
   "metadata": {},
   "outputs": [],
   "source": [
    "api_url_sonned = api_url + \"?api_key=\" + api_key"
   ]
  },
  {
   "cell_type": "code",
   "execution_count": 5,
   "metadata": {},
   "outputs": [],
   "source": [
    "# Importando biblioteca para capturar informações\n",
    "import requests"
   ]
  },
  {
   "cell_type": "code",
   "execution_count": 11,
   "metadata": {},
   "outputs": [],
   "source": [
    "resp = requests.get(api_url_sonned)"
   ]
  },
  {
   "cell_type": "code",
   "execution_count": 14,
   "metadata": {},
   "outputs": [
    {
     "data": {
      "text/plain": [
       "{'id': 'Ky0UO3BC1o4DB_vO3E7tLMJ0tq95wQevFCyD-XVlWrcWYA',\n",
       " 'accountId': 'j_YfStwjdgnKedh8NRB3K_k1RiqjYx_8zaJFLik1CGkDoeI',\n",
       " 'puuid': 'BS6NtkHEUBtxHlfQHiKatDStdzNpY8A2NGLVozvk0Q_WdjfcEqBgkc6DS0BPpg4LYjjMbtkmTcbzUQ',\n",
       " 'name': 'SONNED',\n",
       " 'profileIconId': 5912,\n",
       " 'revisionDate': 1691865529000,\n",
       " 'summonerLevel': 688}"
      ]
     },
     "execution_count": 14,
     "metadata": {},
     "output_type": "execute_result"
    }
   ],
   "source": [
    "sonned_info = resp.json()\n",
    "sonned_info"
   ]
  },
  {
   "cell_type": "code",
   "execution_count": 17,
   "metadata": {},
   "outputs": [
    {
     "data": {
      "text/plain": [
       "'j_YfStwjdgnKedh8NRB3K_k1RiqjYx_8zaJFLik1CGkDoeI'"
      ]
     },
     "execution_count": 17,
     "metadata": {},
     "output_type": "execute_result"
    }
   ],
   "source": [
    "player_account_id = sonned_info['accountId']\n",
    "player_account_id"
   ]
  }
 ],
 "metadata": {
  "kernelspec": {
   "display_name": "Python 3",
   "language": "python",
   "name": "python3"
  },
  "language_info": {
   "codemirror_mode": {
    "name": "ipython",
    "version": 3
   },
   "file_extension": ".py",
   "mimetype": "text/x-python",
   "name": "python",
   "nbconvert_exporter": "python",
   "pygments_lexer": "ipython3",
   "version": "3.11.4"
  },
  "orig_nbformat": 4
 },
 "nbformat": 4,
 "nbformat_minor": 2
}
