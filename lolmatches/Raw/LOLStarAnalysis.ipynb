{
 "cells": [
  {
   "cell_type": "code",
   "execution_count": 1,
   "metadata": {},
   "outputs": [],
   "source": [
    "# API Key para ter acesso aos dados do lol\n",
    "api_key = \"RGAPI-0d133373-5e35-44d0-9e38-78a411868057\""
   ]
  },
  {
   "cell_type": "code",
   "execution_count": 2,
   "metadata": {},
   "outputs": [],
   "source": [
    "# API do invocador desejado\n",
    "api_url = \"https://br1.api.riotgames.com/lol/summoner/v4/summoners/by-name/SONNED\""
   ]
  },
  {
   "cell_type": "code",
   "execution_count": 8,
   "metadata": {},
   "outputs": [
    {
     "data": {
      "text/plain": [
       "'https://br1.api.riotgames.com/lol/summoner/v4/summoners/by-name/SONNED?api_key=RGAPI-0d133373-5e35-44d0-9e38-78a411868057'"
      ]
     },
     "execution_count": 8,
     "metadata": {},
     "output_type": "execute_result"
    }
   ],
   "source": [
    "api_url_sonned = api_url + \"?api_key=\" + api_key\n",
    "api_url_sonned"
   ]
  },
  {
   "cell_type": "code",
   "execution_count": 4,
   "metadata": {},
   "outputs": [],
   "source": [
    "# Importando biblioteca para capturar informações\n",
    "import requests"
   ]
  },
  {
   "cell_type": "code",
   "execution_count": 5,
   "metadata": {},
   "outputs": [],
   "source": [
    "resp = requests.get(api_url_sonned)"
   ]
  },
  {
   "cell_type": "code",
   "execution_count": 6,
   "metadata": {},
   "outputs": [
    {
     "data": {
      "text/plain": [
       "{'id': 'Ky0UO3BC1o4DB_vO3E7tLMJ0tq95wQevFCyD-XVlWrcWYA',\n",
       " 'accountId': 'j_YfStwjdgnKedh8NRB3K_k1RiqjYx_8zaJFLik1CGkDoeI',\n",
       " 'puuid': 'BS6NtkHEUBtxHlfQHiKatDStdzNpY8A2NGLVozvk0Q_WdjfcEqBgkc6DS0BPpg4LYjjMbtkmTcbzUQ',\n",
       " 'name': 'SONNED',\n",
       " 'profileIconId': 5912,\n",
       " 'revisionDate': 1691865529000,\n",
       " 'summonerLevel': 688}"
      ]
     },
     "execution_count": 6,
     "metadata": {},
     "output_type": "execute_result"
    }
   ],
   "source": [
    "sonned_info = resp.json()\n",
    "sonned_info"
   ]
  },
  {
   "cell_type": "code",
   "execution_count": 7,
   "metadata": {},
   "outputs": [
    {
     "data": {
      "text/plain": [
       "'j_YfStwjdgnKedh8NRB3K_k1RiqjYx_8zaJFLik1CGkDoeI'"
      ]
     },
     "execution_count": 7,
     "metadata": {},
     "output_type": "execute_result"
    }
   ],
   "source": [
    "player_account_id = sonned_info['accountId']\n",
    "player_account_id"
   ]
  },
  {
   "cell_type": "code",
   "execution_count": 9,
   "metadata": {},
   "outputs": [],
   "source": [
    "url_api_matches = \"https://americas.api.riotgames.com/lol/match/v5/matches/by-puuid/BS6NtkHEUBtxHlfQHiKatDStdzNpY8A2NGLVozvk0Q_WdjfcEqBgkc6DS0BPpg4LYjjMbtkmTcbzUQ/ids?start=0&count=100\""
   ]
  },
  {
   "cell_type": "code",
   "execution_count": 11,
   "metadata": {},
   "outputs": [
    {
     "data": {
      "text/plain": [
       "'https://americas.api.riotgames.com/lol/match/v5/matches/by-puuid/BS6NtkHEUBtxHlfQHiKatDStdzNpY8A2NGLVozvk0Q_WdjfcEqBgkc6DS0BPpg4LYjjMbtkmTcbzUQ/ids?start=0&count=100&api_key=RGAPI-0d133373-5e35-44d0-9e38-78a411868057'"
      ]
     },
     "execution_count": 11,
     "metadata": {},
     "output_type": "execute_result"
    }
   ],
   "source": [
    "url_api_matches_sonned = url_api_matches + \"&api_key=\" + api_key\n",
    "url_api_matches_sonned"
   ]
  },
  {
   "cell_type": "code",
   "execution_count": 12,
   "metadata": {},
   "outputs": [],
   "source": [
    "resp_m = requests.get(url_api_matches_sonned)"
   ]
  },
  {
   "cell_type": "code",
   "execution_count": 17,
   "metadata": {},
   "outputs": [
    {
     "data": {
      "text/plain": [
       "['BR1_2786055022',\n",
       " 'BR1_2786033002',\n",
       " 'BR1_2786024268',\n",
       " 'BR1_2784939325',\n",
       " 'BR1_2784925631',\n",
       " 'BR1_2784906695',\n",
       " 'BR1_2784889781',\n",
       " 'BR1_2784877063',\n",
       " 'BR1_2784859743',\n",
       " 'BR1_2784846904',\n",
       " 'BR1_2784840651',\n",
       " 'BR1_2784830795',\n",
       " 'BR1_2784745916',\n",
       " 'BR1_2784746590',\n",
       " 'BR1_2784746376',\n",
       " 'BR1_2784741861',\n",
       " 'BR1_2784743230',\n",
       " 'BR1_2784737659',\n",
       " 'BR1_2784537663',\n",
       " 'BR1_2784507573',\n",
       " 'BR1_2784484664',\n",
       " 'BR1_2784450524',\n",
       " 'BR1_2784439058',\n",
       " 'BR1_2783953156',\n",
       " 'BR1_2783939653',\n",
       " 'BR1_2783927527',\n",
       " 'BR1_2783916599',\n",
       " 'BR1_2783905720',\n",
       " 'BR1_2783900463',\n",
       " 'BR1_2783241524',\n",
       " 'BR1_2781339392',\n",
       " 'BR1_2781335198',\n",
       " 'BR1_2781323474',\n",
       " 'BR1_2781318085',\n",
       " 'BR1_2780851499',\n",
       " 'BR1_2780838973',\n",
       " 'BR1_2780824403',\n",
       " 'BR1_2778294451',\n",
       " 'BR1_2778273139',\n",
       " 'BR1_2778248550',\n",
       " 'BR1_2778224005',\n",
       " 'BR1_2778179856',\n",
       " 'BR1_2777974451',\n",
       " 'BR1_2777959698',\n",
       " 'BR1_2777940635',\n",
       " 'BR1_2777916910',\n",
       " 'BR1_2777893309',\n",
       " 'BR1_2777871464',\n",
       " 'BR1_2777853137',\n",
       " 'BR1_2777789289',\n",
       " 'BR1_2777755268',\n",
       " 'BR1_2777718408',\n",
       " 'BR1_2777686783',\n",
       " 'BR1_2777650592',\n",
       " 'BR1_2777588641',\n",
       " 'BR1_2777577163',\n",
       " 'BR1_2777562331',\n",
       " 'BR1_2777551149',\n",
       " 'BR1_2777535172',\n",
       " 'BR1_2777483885',\n",
       " 'BR1_2777471419',\n",
       " 'BR1_2777178424',\n",
       " 'BR1_2777155974',\n",
       " 'BR1_2777139682',\n",
       " 'BR1_2777111426',\n",
       " 'BR1_2774051754',\n",
       " 'BR1_2774041396',\n",
       " 'BR1_2774023113',\n",
       " 'BR1_2773751901',\n",
       " 'BR1_2773738525',\n",
       " 'BR1_2773724120',\n",
       " 'BR1_2773706086',\n",
       " 'BR1_2773621922',\n",
       " 'BR1_2773613095',\n",
       " 'BR1_2773599586',\n",
       " 'BR1_2773588471',\n",
       " 'BR1_2773570978',\n",
       " 'BR1_2773564086',\n",
       " 'BR1_2773546997',\n",
       " 'BR1_2773475958',\n",
       " 'BR1_2773471189',\n",
       " 'BR1_2770864417',\n",
       " 'BR1_2770846497',\n",
       " 'BR1_2770831407',\n",
       " 'BR1_2770814890',\n",
       " 'BR1_2770494035',\n",
       " 'BR1_2770482613',\n",
       " 'BR1_2770475227',\n",
       " 'BR1_2770457664',\n",
       " 'BR1_2770443865',\n",
       " 'BR1_2770434019',\n",
       " 'BR1_2770409702',\n",
       " 'BR1_2770395252',\n",
       " 'BR1_2770373001',\n",
       " 'BR1_2770219981',\n",
       " 'BR1_2770198619',\n",
       " 'BR1_2770175816',\n",
       " 'BR1_2770151484',\n",
       " 'BR1_2770117067',\n",
       " 'BR1_2770078146']"
      ]
     },
     "execution_count": 17,
     "metadata": {},
     "output_type": "execute_result"
    }
   ],
   "source": [
    "matches = resp_m.json()\n",
    "matches"
   ]
  },
  {
   "cell_type": "code",
   "execution_count": 22,
   "metadata": {},
   "outputs": [],
   "source": [
    "api_url_sonned_info = \"https://americas.api.riotgames.com/lol/match/v5/matches/BR1_2786055022\""
   ]
  },
  {
   "cell_type": "code",
   "execution_count": 28,
   "metadata": {},
   "outputs": [
    {
     "data": {
      "text/plain": [
       "'https://americas.api.riotgames.com/lol/match/v5/matches/BR1_2786055022?api_key=RGAPI-0d133373-5e35-44d0-9e38-78a411868057'"
      ]
     },
     "execution_count": 28,
     "metadata": {},
     "output_type": "execute_result"
    }
   ],
   "source": [
    "api_url_sonned_info_game = api_url_sonned_info + \"?api_key=\" + api_key\n",
    "api_url_sonned_info_game"
   ]
  },
  {
   "cell_type": "code",
   "execution_count": 29,
   "metadata": {},
   "outputs": [],
   "source": [
    "resp_info_game = requests.get(api_url_sonned_info_game)"
   ]
  },
  {
   "cell_type": "code",
   "execution_count": 31,
   "metadata": {},
   "outputs": [],
   "source": [
    "match_data = resp_info_game.json()"
   ]
  },
  {
   "cell_type": "code",
   "execution_count": 33,
   "metadata": {},
   "outputs": [
    {
     "data": {
      "text/plain": [
       "dict_keys(['metadata', 'info'])"
      ]
     },
     "execution_count": 33,
     "metadata": {},
     "output_type": "execute_result"
    }
   ],
   "source": [
    "match_data.keys()"
   ]
  },
  {
   "cell_type": "code",
   "execution_count": 41,
   "metadata": {},
   "outputs": [
    {
     "data": {
      "text/plain": [
       "{'dataVersion': '2',\n",
       " 'matchId': 'BR1_2786055022',\n",
       " 'participants': ['kRdCqRKPsFNLSlDVLmaj9ozXFReeZFKh1guULRJ5jF7ZXLTznE60U4K1j4glgsf6DXaY-a3k22UxMA',\n",
       "  'XCX7wsJkRuHptPQ4RrwFO__rIdbbKPpe5WwKMpxo6fNpCj0VYuSHtSGssSn-sDnps6HmEdks5lFabA',\n",
       "  'hPpg-V0EVS8z3lvIToFDXcSmvO2RijGXTAUnq_qeAGpGuxZ8VwAHTYh9EvdaE7JAj-CW5K67-fHIow',\n",
       "  'DlvTTRUpXZplY2YGX0Vrum9thFMTDvoO75IqiUR4GH7LN6qPXVXjXn2pkQkx-j1sGRAhQk383bpWyw',\n",
       "  'JpensVMfJYkwbsTE5pyx7woa-UPBjEcf0VPhNIQGoc1z8IsUHueXx2NP4F6f0leC2jxN9O5-lVV0yQ',\n",
       "  'zUAetqvl6d9a9Tc9V081OaiDaeaw-e7mHLYBPDPgp7GT5_N9c0xOnEiz6ZPwVExdq7KX-axB62DpEg',\n",
       "  'z4IaaAhtdg6iU9CGx7DeDQBHkp4s4VwhRW8ziFuPXB_0aTISfyjMqmnWuMdj9UKNvMQjaYTMKP8C1Q',\n",
       "  'BS6NtkHEUBtxHlfQHiKatDStdzNpY8A2NGLVozvk0Q_WdjfcEqBgkc6DS0BPpg4LYjjMbtkmTcbzUQ']}"
      ]
     },
     "execution_count": 41,
     "metadata": {},
     "output_type": "execute_result"
    }
   ],
   "source": [
    "match_data['metadata']"
   ]
  },
  {
   "cell_type": "code",
   "execution_count": 89,
   "metadata": {},
   "outputs": [],
   "source": [
    "puuid = 'BS6NtkHEUBtxHlfQHiKatDStdzNpY8A2NGLVozvk0Q_WdjfcEqBgkc6DS0BPpg4LYjjMbtkmTcbzUQ'"
   ]
  },
  {
   "cell_type": "code",
   "execution_count": 91,
   "metadata": {},
   "outputs": [],
   "source": [
    "part_index = match_data['metadata']['participants'].index(puuid)"
   ]
  },
  {
   "cell_type": "code",
   "execution_count": 92,
   "metadata": {},
   "outputs": [
    {
     "data": {
      "text/plain": [
       "7"
      ]
     },
     "execution_count": 92,
     "metadata": {},
     "output_type": "execute_result"
    }
   ],
   "source": [
    "part_index"
   ]
  },
  {
   "cell_type": "code",
   "execution_count": 94,
   "metadata": {},
   "outputs": [
    {
     "data": {
      "text/plain": [
       "{'allInPings': 0,\n",
       " 'assistMePings': 0,\n",
       " 'assists': 8,\n",
       " 'baitPings': 0,\n",
       " 'baronKills': 0,\n",
       " 'basicPings': 0,\n",
       " 'bountyLevel': 0,\n",
       " 'champExperience': 15500,\n",
       " 'champLevel': 16,\n",
       " 'championId': 427,\n",
       " 'championName': 'Ivern',\n",
       " 'championTransform': 0,\n",
       " 'commandPings': 1,\n",
       " 'consumablesPurchased': 0,\n",
       " 'damageDealtToBuildings': 0,\n",
       " 'damageDealtToObjectives': 467,\n",
       " 'damageDealtToTurrets': 0,\n",
       " 'damageSelfMitigated': 24782,\n",
       " 'dangerPings': 0,\n",
       " 'deaths': 5,\n",
       " 'detectorWardsPlaced': 0,\n",
       " 'doubleKills': 0,\n",
       " 'dragonKills': 0,\n",
       " 'eligibleForProgression': True,\n",
       " 'enemyMissingPings': 0,\n",
       " 'enemyVisionPings': 0,\n",
       " 'firstBloodAssist': False,\n",
       " 'firstBloodKill': False,\n",
       " 'firstTowerAssist': False,\n",
       " 'firstTowerKill': False,\n",
       " 'gameEndedInEarlySurrender': False,\n",
       " 'gameEndedInSurrender': False,\n",
       " 'getBackPings': 0,\n",
       " 'goldEarned': 19100,\n",
       " 'goldSpent': 20000,\n",
       " 'holdPings': 0,\n",
       " 'individualPosition': 'Invalid',\n",
       " 'inhibitorKills': 0,\n",
       " 'inhibitorTakedowns': 0,\n",
       " 'inhibitorsLost': 0,\n",
       " 'item0': 223089,\n",
       " 'item1': 223107,\n",
       " 'item2': 223157,\n",
       " 'item3': 224005,\n",
       " 'item4': 223504,\n",
       " 'item5': 226617,\n",
       " 'item6': 3348,\n",
       " 'itemsPurchased': 8,\n",
       " 'killingSprees': 1,\n",
       " 'kills': 3,\n",
       " 'lane': 'NONE',\n",
       " 'largestCriticalStrike': 0,\n",
       " 'largestKillingSpree': 2,\n",
       " 'largestMultiKill': 1,\n",
       " 'longestTimeSpentLiving': 77,\n",
       " 'magicDamageDealt': 5696,\n",
       " 'magicDamageDealtToChampions': 5365,\n",
       " 'magicDamageTaken': 9725,\n",
       " 'needVisionPings': 0,\n",
       " 'neutralMinionsKilled': 0,\n",
       " 'nexusKills': 0,\n",
       " 'nexusLost': 0,\n",
       " 'nexusTakedowns': 0,\n",
       " 'objectivesStolen': 0,\n",
       " 'objectivesStolenAssists': 0,\n",
       " 'onMyWayPings': 0,\n",
       " 'participantId': 8,\n",
       " 'pentaKills': 0,\n",
       " 'perks': {'statPerks': {'defense': 0, 'flex': 0, 'offense': 0},\n",
       "  'styles': [{'description': 'primaryStyle',\n",
       "    'selections': [{'perk': 0, 'var1': 0, 'var2': 0, 'var3': 0},\n",
       "     {'perk': 0, 'var1': 0, 'var2': 0, 'var3': 0},\n",
       "     {'perk': 0, 'var1': 0, 'var2': 0, 'var3': 0},\n",
       "     {'perk': 0, 'var1': 0, 'var2': 0, 'var3': 0}],\n",
       "    'style': 0},\n",
       "   {'description': 'subStyle',\n",
       "    'selections': [{'perk': 0, 'var1': 0, 'var2': 0, 'var3': 0},\n",
       "     {'perk': 0, 'var1': 0, 'var2': 0, 'var3': 0}],\n",
       "    'style': 0}]},\n",
       " 'physicalDamageDealt': 3175,\n",
       " 'physicalDamageDealtToChampions': 3109,\n",
       " 'physicalDamageTaken': 9766,\n",
       " 'placement': 2,\n",
       " 'playerAugment1': 95,\n",
       " 'playerAugment2': 68,\n",
       " 'playerAugment3': 97,\n",
       " 'playerAugment4': 0,\n",
       " 'playerSubteamId': 4,\n",
       " 'profileIcon': 5912,\n",
       " 'pushPings': 0,\n",
       " 'puuid': 'BS6NtkHEUBtxHlfQHiKatDStdzNpY8A2NGLVozvk0Q_WdjfcEqBgkc6DS0BPpg4LYjjMbtkmTcbzUQ',\n",
       " 'quadraKills': 0,\n",
       " 'riotIdName': '',\n",
       " 'riotIdTagline': '',\n",
       " 'role': 'SUPPORT',\n",
       " 'sightWardsBoughtInGame': 0,\n",
       " 'spell1Casts': 47,\n",
       " 'spell2Casts': 52,\n",
       " 'spell3Casts': 55,\n",
       " 'spell4Casts': 48,\n",
       " 'subteamPlacement': 2,\n",
       " 'summoner1Casts': 4,\n",
       " 'summoner1Id': 2201,\n",
       " 'summoner2Casts': 2,\n",
       " 'summoner2Id': 2202,\n",
       " 'summonerId': 'Ky0UO3BC1o4DB_vO3E7tLMJ0tq95wQevFCyD-XVlWrcWYA',\n",
       " 'summonerLevel': 687,\n",
       " 'summonerName': 'SONNED',\n",
       " 'teamEarlySurrendered': False,\n",
       " 'teamId': 100,\n",
       " 'teamPosition': '',\n",
       " 'timeCCingOthers': 52,\n",
       " 'timePlayed': 700,\n",
       " 'totalAllyJungleMinionsKilled': 0,\n",
       " 'totalDamageDealt': 9257,\n",
       " 'totalDamageDealtToChampions': 8474,\n",
       " 'totalDamageShieldedOnTeammates': 10450,\n",
       " 'totalDamageTaken': 19491,\n",
       " 'totalEnemyJungleMinionsKilled': 0,\n",
       " 'totalHeal': 2640,\n",
       " 'totalHealsOnTeammates': 219,\n",
       " 'totalMinionsKilled': 0,\n",
       " 'totalTimeCCDealt': 145,\n",
       " 'totalTimeSpentDead': 445,\n",
       " 'totalUnitsHealed': 2,\n",
       " 'tripleKills': 0,\n",
       " 'trueDamageDealt': 385,\n",
       " 'trueDamageDealtToChampions': 0,\n",
       " 'trueDamageTaken': 0,\n",
       " 'turretKills': 0,\n",
       " 'turretTakedowns': 0,\n",
       " 'turretsLost': 0,\n",
       " 'unrealKills': 0,\n",
       " 'visionClearedPings': 0,\n",
       " 'visionScore': 0,\n",
       " 'visionWardsBoughtInGame': 0,\n",
       " 'wardsKilled': 0,\n",
       " 'wardsPlaced': 0,\n",
       " 'win': True}"
      ]
     },
     "execution_count": 94,
     "metadata": {},
     "output_type": "execute_result"
    }
   ],
   "source": [
    "match_data['info']['participants'][part_index]"
   ]
  }
 ],
 "metadata": {
  "kernelspec": {
   "display_name": "Python 3",
   "language": "python",
   "name": "python3"
  },
  "language_info": {
   "codemirror_mode": {
    "name": "ipython",
    "version": 3
   },
   "file_extension": ".py",
   "mimetype": "text/x-python",
   "name": "python",
   "nbconvert_exporter": "python",
   "pygments_lexer": "ipython3",
   "version": "3.11.4"
  },
  "orig_nbformat": 4
 },
 "nbformat": 4,
 "nbformat_minor": 2
}
